{
 "cells": [
  {
   "cell_type": "markdown",
   "metadata": {},
   "source": [
    "Se utiliza un método de filtrado colaborativo basado en usuarios."
   ]
  },
  {
   "cell_type": "markdown",
   "metadata": {},
   "source": [
    "# Inicialización de datos\n",
    "\n",
    "Se abren los archivos y se guardan en memoria para poder hacer uso posterior de estos.\n",
    "\n",
    "En esta sección se genera una matriz de ratings, pero dada la naturaleza _sparse_ de esta matriz se almacena en un diccionario de diccionarios con el siguiente formato\n",
    "\n",
    "~~~\n",
    "{ used_id : {\n",
    "         movie_id: rating,\n",
    "         },\n",
    "  user_id2: {\n",
    "         movie_id: rating,\n",
    "         movie_id2: rating\n",
    "         }\n",
    " }\n",
    "    \n",
    "~~~"
   ]
  },
  {
   "cell_type": "code",
   "execution_count": 1,
   "metadata": {},
   "outputs": [],
   "source": [
    "movies_file = open('movies.dat', 'r', encoding=\"utf8\")\n",
    "ratings_file = open('ratings.dat', 'r', encoding=\"utf8\")\n",
    "\n",
    "matrix = dict()\n",
    "users_matrix = dict()"
   ]
  },
  {
   "cell_type": "code",
   "execution_count": 2,
   "metadata": {},
   "outputs": [],
   "source": [
    "def insert_sorted(a, tuple_value):\n",
    "    _, value, count = tuple_value\n",
    "    hi, lo = len(a), 0\n",
    "    while lo < hi:\n",
    "        mid = (lo + hi) // 2\n",
    "        if value > a[mid][1] or (value == a[mid][1] and count > a[mid][2]):\n",
    "            hi = mid\n",
    "        else:\n",
    "            lo = mid + 1\n",
    "    a.insert(lo, tuple_value)"
   ]
  },
  {
   "cell_type": "code",
   "execution_count": 3,
   "metadata": {},
   "outputs": [],
   "source": [
    "for line in movies_file:\n",
    "    movie_id, name, tags = line.strip().split('::')\n",
    "    matrix[movie_id] = {\n",
    "        'name': name,\n",
    "        'tags': tags.split('|'),\n",
    "        'ratings': dict(),\n",
    "        'ratings_count': 0,\n",
    "        'total_rating': 0,\n",
    "    }"
   ]
  },
  {
   "cell_type": "code",
   "execution_count": 4,
   "metadata": {},
   "outputs": [],
   "source": [
    "for line in ratings_file:\n",
    "    user_id, movie_id, rating, _ = line.strip().split('::')\n",
    "    if matrix[movie_id]['ratings_count'] == 0:\n",
    "        matrix[movie_id]['total_rating'] = float(rating)\n",
    "    else:\n",
    "        matrix[movie_id]['total_rating'] = round((\n",
    "            float(rating) + (matrix[movie_id]['total_rating'] * matrix[movie_id]['ratings_count'])\n",
    "        ) / (matrix[movie_id]['ratings_count'] + 1), 1)\n",
    "    matrix[movie_id]['ratings'][user_id] = float(rating)\n",
    "    matrix[movie_id]['ratings_count'] += 1\n",
    "    \n",
    "    if user_id not in users_matrix:\n",
    "        users_matrix[user_id] = dict()\n",
    "    users_matrix[user_id][movie_id] = float(rating)    "
   ]
  },
  {
   "cell_type": "markdown",
   "metadata": {},
   "source": [
    "Ademas, se calculan las 10 películas más populares, basado en la cantidad de ratings que tiene cada una."
   ]
  },
  {
   "cell_type": "code",
   "execution_count": 5,
   "metadata": {},
   "outputs": [],
   "source": [
    "most_popular_movies = []\n",
    "for movie_id, movie in matrix.items():\n",
    "    insert_sorted(most_popular_movies, (movie_id, movie['ratings_count'], movie['total_rating']))"
   ]
  },
  {
   "cell_type": "markdown",
   "metadata": {},
   "source": [
    "# Solicitar Ratings"
   ]
  },
  {
   "cell_type": "markdown",
   "metadata": {},
   "source": [
    "Se guardan los ratings de las 10 películas más populares y se almacenan en la matriz de rating utilizando la clave _new_user_."
   ]
  },
  {
   "cell_type": "code",
   "execution_count": 18,
   "metadata": {},
   "outputs": [
    {
     "name": "stdout",
     "output_type": "stream",
     "text": [
      "A continuación deberás puntuar 10 peliculas de acuerdo a tus gustos.\n",
      "Tu puntiación debe estar entre 0.5 y 5.0, en intervalos de 0.5, si no deseas opinar sobre una pelicula marca 0\n",
      "Pulp Fiction (1994): 5\n",
      "Forrest Gump (1994): 4\n",
      "Silence of the Lambs, The (1991): 3\n",
      "Jurassic Park (1993): 2\n",
      "Shawshank Redemption, The (1994): 1\n",
      "Braveheart (1995): 2\n",
      "Fugitive, The (1993): 3\n",
      "Terminator 2: Judgment Day (1991): 4\n",
      "Star Wars: Episode IV - A New Hope (a.k.a. Star Wars) (1977): 5\n",
      "Apollo 13 (1995): 4\n"
     ]
    }
   ],
   "source": [
    "print('A continuación deberás puntuar 10 peliculas de acuerdo a tus gustos.')\n",
    "print('Tu puntiación debe estar entre 0.5 y 5.0, en intervalos de 0.5, si no deseas opinar sobre una pelicula marca 0')\n",
    "\n",
    "users_matrix['new_user'] = dict()\n",
    "\n",
    "for movie_id, _, _ in most_popular_movies[:10]:\n",
    "    ask_rating = True\n",
    "    while ask_rating:\n",
    "        try:\n",
    "            rating = float(input('{}: '.format(matrix[movie_id]['name'])))\n",
    "            \n",
    "            if rating % 0.5 != 0 or rating < 0 or rating > 5:\n",
    "                raise ValueError()\n",
    "            \n",
    "            if rating != 0:\n",
    "                users_matrix['new_user'][movie_id] = rating \n",
    "            ask_rating = False\n",
    "        except ValueError:\n",
    "            print('Has ingresado de manera incorrecta el rating, recuerda que debe ser múltiplo de 0.5 y estar entre 0.5 y 5.0')"
   ]
  },
  {
   "cell_type": "markdown",
   "metadata": {},
   "source": [
    "Para calcular similaridades se utiliza la similaridad de coseno, definida de la siguiente manera:\n",
    "\n",
    "$$ sim(x, y) = \\frac{<x,y>}{||x||_{2} \\cdot ||y||_{2}}$$"
   ]
  },
  {
   "cell_type": "code",
   "execution_count": 19,
   "metadata": {},
   "outputs": [],
   "source": [
    "def cosine_dist(user_1, user_2):\n",
    "    dist = 0\n",
    "    norm_user_1 = 0\n",
    "    norm_user_2 = 0\n",
    "    for movie_id, rating in users_matrix[user_1].items():\n",
    "        norm_user_1 += rating ** 2\n",
    "    for movie_id, rating in users_matrix[user_2].items():\n",
    "        norm_user_2 += rating ** 2\n",
    "        if movie_id in users_matrix[user_1]:\n",
    "            dist += rating * users_matrix[user_1][movie_id]\n",
    "    return dist/((norm_user_1 ** (1/2)) * (norm_user_2 ** (1/2)))\n",
    "\n",
    "    "
   ]
  },
  {
   "cell_type": "markdown",
   "metadata": {},
   "source": [
    "Se procede a calcular del nuevo usuario al resto de ellos utilizando la similaridad antes mecionada."
   ]
  },
  {
   "cell_type": "code",
   "execution_count": 20,
   "metadata": {},
   "outputs": [],
   "source": [
    "def get_dist_users():\n",
    "    distances = []\n",
    "    for user in users_matrix.keys():\n",
    "        if user == 'new_user':\n",
    "            continue\n",
    "        distance = cosine_dist('new_user', user)\n",
    "        distances.append((user,distance))\n",
    "    return sorted(distances, key=lambda tup:tup[1], reverse=True)\n",
    "        "
   ]
  },
  {
   "cell_type": "code",
   "execution_count": 21,
   "metadata": {},
   "outputs": [],
   "source": [
    "distances_lists = get_dist_users()"
   ]
  },
  {
   "cell_type": "markdown",
   "metadata": {},
   "source": [
    "Luego, se obtiene el vecindario del nuevo usuario. En este caso de utilizó un vecindario $K = 3$."
   ]
  },
  {
   "cell_type": "code",
   "execution_count": 22,
   "metadata": {},
   "outputs": [],
   "source": [
    "neighborhood = distances_lists[:3]"
   ]
  },
  {
   "cell_type": "markdown",
   "metadata": {},
   "source": [
    "Finalmente se predice un rating para las películas que no ha visto el nuevo usuario, basadas en las películas que han visto los usuarios de su vencindario."
   ]
  },
  {
   "cell_type": "code",
   "execution_count": 23,
   "metadata": {},
   "outputs": [],
   "source": [
    "ranking = dict()\n",
    "ready = []\n",
    "for user, distance in neighborhood:\n",
    "    for movie_id in users_matrix[user]:\n",
    "        if movie_id not in users_matrix['new_user']:\n",
    "            if movie_id not in ready:\n",
    "                #print(movie_id)\n",
    "                ranking[movie_id] = {\n",
    "                    'num':0,\n",
    "                    'dem':0\n",
    "                }\n",
    "                ready.append(movie_id)\n",
    "            #print(ready, ranking)\n",
    "            ranking[movie_id]['num'] += users_matrix[user][movie_id] * distance\n",
    "            ranking[movie_id]['dem'] += distance"
   ]
  },
  {
   "cell_type": "code",
   "execution_count": 25,
   "metadata": {},
   "outputs": [],
   "source": [
    "recomendation = []\n",
    "for movie_id in ranking:\n",
    "    recomendation.append((movie_id, ranking[movie_id]['num'] / ranking[movie_id]['dem']))"
   ]
  },
  {
   "cell_type": "code",
   "execution_count": 26,
   "metadata": {},
   "outputs": [],
   "source": [
    "recomendation = sorted(recomendation,key= lambda tup:tup[1], reverse=True)"
   ]
  },
  {
   "cell_type": "markdown",
   "metadata": {},
   "source": [
    "# Recomendaciones"
   ]
  },
  {
   "cell_type": "code",
   "execution_count": 28,
   "metadata": {},
   "outputs": [
    {
     "name": "stdout",
     "output_type": "stream",
     "text": [
      "1 - Lion King, The (1994) 5.0\n",
      "2 - Schindler's List (1993) 4.33064793873688\n",
      "3 - Toy Story (1995) 4.33064793873688\n",
      "4 - 12 Monkeys (Twelve Monkeys) (1995) 3.999080398722667\n",
      "5 - Dances with Wolves (1990) 3.6631350800284266\n"
     ]
    }
   ],
   "source": [
    "for i in range(5):\n",
    "    movie_id, rating = recomendation[i]\n",
    "    print('{} - {} {}'.format(i + 1, matrix[movie_id]['name'], rating))"
   ]
  }
 ],
 "metadata": {
  "kernelspec": {
   "display_name": "Python 3",
   "language": "python",
   "name": "python3"
  },
  "language_info": {
   "codemirror_mode": {
    "name": "ipython",
    "version": 3
   },
   "file_extension": ".py",
   "mimetype": "text/x-python",
   "name": "python",
   "nbconvert_exporter": "python",
   "pygments_lexer": "ipython3",
   "version": "3.5.4"
  }
 },
 "nbformat": 4,
 "nbformat_minor": 2
}
