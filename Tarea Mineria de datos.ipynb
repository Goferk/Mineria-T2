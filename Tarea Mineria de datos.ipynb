{
 "cells": [
  {
   "cell_type": "markdown",
   "metadata": {},
   "source": [
    "# Inicialización de datos\n",
    "\n",
    "Se abren los archivos y se guardan en memoria para poder hacer uso posterior de estos."
   ]
  },
  {
   "cell_type": "code",
   "execution_count": 130,
   "metadata": {},
   "outputs": [],
   "source": [
    "movies_file = open('movies.dat', 'r', encoding=\"utf8\")\n",
    "ratings_file = open('ratings.dat', 'r', encoding=\"utf8\")\n",
    "\n",
    "matrix = dict()\n",
    "users_matrix = dict()"
   ]
  },
  {
   "cell_type": "code",
   "execution_count": 131,
   "metadata": {},
   "outputs": [],
   "source": [
    "def insert_sorted(a, tuple_value):\n",
    "    _, value, count = tuple_value\n",
    "    hi, lo = len(a), 0\n",
    "    while lo < hi:\n",
    "        mid = (lo + hi) // 2\n",
    "        if value > a[mid][1] or (value == a[mid][1] and count > a[mid][2]):\n",
    "            hi = mid\n",
    "        else:\n",
    "            lo = mid + 1\n",
    "    a.insert(lo, tuple_value)"
   ]
  },
  {
   "cell_type": "code",
   "execution_count": 132,
   "metadata": {},
   "outputs": [],
   "source": [
    "for line in movies_file:\n",
    "    movie_id, name, tags = line.strip().split('::')\n",
    "    matrix[movie_id] = {\n",
    "        'name': name,\n",
    "        'tags': tags.split('|'),\n",
    "        'ratings': dict(),\n",
    "        'ratings_count': 0,\n",
    "        'total_rating': 0,\n",
    "    }"
   ]
  },
  {
   "cell_type": "code",
   "execution_count": 133,
   "metadata": {},
   "outputs": [],
   "source": [
    "for line in ratings_file:\n",
    "    user_id, movie_id, rating, _ = line.strip().split('::')\n",
    "    if matrix[movie_id]['ratings_count'] == 0:\n",
    "        matrix[movie_id]['total_rating'] = float(rating)\n",
    "    else:\n",
    "        matrix[movie_id]['total_rating'] = round((\n",
    "            float(rating) + (matrix[movie_id]['total_rating'] * matrix[movie_id]['ratings_count'])\n",
    "        ) / (matrix[movie_id]['ratings_count'] + 1), 1)\n",
    "    matrix[movie_id]['ratings'][user_id] = float(rating)\n",
    "    matrix[movie_id]['ratings_count'] += 1\n",
    "    \n",
    "    if user_id not in users_matrix:\n",
    "        users_matrix[user_id] = dict()\n",
    "    users_matrix[user_id][movie_id] = float(rating)\n",
    "        "
   ]
  },
  {
   "cell_type": "code",
   "execution_count": 134,
   "metadata": {},
   "outputs": [],
   "source": [
    "most_popular_movies = []\n",
    "for movie_id, movie in matrix.items():\n",
    "    insert_sorted(most_popular_movies, (movie_id, movie['ratings_count'], movie['total_rating']))"
   ]
  },
  {
   "cell_type": "markdown",
   "metadata": {},
   "source": [
    "# Solicitar ratings"
   ]
  },
  {
   "cell_type": "code",
   "execution_count": 169,
   "metadata": {},
   "outputs": [
    {
     "name": "stdout",
     "output_type": "stream",
     "text": [
      "A continuación deberás puntuar 10 peliculas de acuerdo a tus gustos.\n",
      "Tu puntiación debe estar entre 0.5 y 5.0, en intervalos de 0.5, si no deseas opinar sobre una pelicula marca 0\n",
      "Pulp Fiction (1994): 0.5\n",
      "Forrest Gump (1994): 0.5\n",
      "Silence of the Lambs, The (1991): 0.5\n",
      "Jurassic Park (1993): 0.5\n",
      "Shawshank Redemption, The (1994): 0.5\n",
      "Braveheart (1995): 0.5\n",
      "Fugitive, The (1993): 0.5\n",
      "Terminator 2: Judgment Day (1991): 0.5\n",
      "Star Wars: Episode IV - A New Hope (a.k.a. Star Wars) (1977): 0.5\n",
      "Apollo 13 (1995): 0.5\n"
     ]
    }
   ],
   "source": [
    "print('A continuación deberás puntuar 10 peliculas de acuerdo a tus gustos.')\n",
    "print('Tu puntiación debe estar entre 0.5 y 5.0, en intervalos de 0.5, si no deseas opinar sobre una pelicula marca 0')\n",
    "\n",
    "for movie_id, _, _ in most_popular_movies[:10]:\n",
    "    ask_rating = True\n",
    "    while ask_rating:\n",
    "        try:\n",
    "            rating = float(input('{}: '.format(matrix[movie_id]['name'])))\n",
    "            \n",
    "            if rating % 0.5 != 0 or rating < 0 or rating > 5:\n",
    "                raise ValueError()\n",
    "            \n",
    "            if rating != 0:\n",
    "                users_matrix['new_user'] = { movie_id: rating }\n",
    "            ask_rating = False\n",
    "        except ValueError:\n",
    "            print('Has ingresado de manera incorrecta el rating, recuerda que debe ser múltiplo de 0.5 y estar entre 0.5 y 5.0')\n",
    "        "
   ]
  },
  {
   "cell_type": "code",
   "execution_count": 182,
   "metadata": {},
   "outputs": [],
   "source": [
    "def dist(user_1, user_2):\n",
    "    dist = 0\n",
    "    not_seen_movies = set()\n",
    "    evaluated_movies = 0\n",
    "    for movie_id, rating in users_matrix[user_2].items():\n",
    "        if movie_id in users_matrix[user_1]:\n",
    "            dist += (rating - users_matrix[user_1][movie_id]) ** 2\n",
    "            evaluated_movies += 1\n",
    "        else:\n",
    "            not_seen_movies.add(movie_id)\n",
    "\n",
    "    return dist ** (1/2), not_seen_movies, evaluated_movies\n",
    "\n",
    "def get_sim_users(radius=None):\n",
    "    users = []\n",
    "    all_movies = set()\n",
    "    for user in users_matrix.keys():\n",
    "        if user == 'new_user':\n",
    "            continue\n",
    "        distance, not_seen_movies, evaluated_movies = dist('new_user', user)\n",
    "        if (radius is None or distance < radius) and evaluated_movies > 1:\n",
    "            print(distance)\n",
    "            sim = 1 / (1 + distance)\n",
    "            insert_sorted(users, (user, sim, len(not_seen_movies)))\n",
    "            all_movies = all_movies.union(not_seen_movies)\n",
    "    return users, all_movies"
   ]
  },
  {
   "cell_type": "code",
   "execution_count": 183,
   "metadata": {},
   "outputs": [],
   "source": [
    "sim_users, movies_to_recommend = get_sim_users()\n",
    "recommended_movies = []\n",
    "for movie_id in movies_to_recommend:\n",
    "    denominator = 0\n",
    "    numerator = 0\n",
    "    for user_id, user_sim, _ in sim_users:\n",
    "        if movie_id not in users_matrix[user_id]:\n",
    "            continue\n",
    "        denominator += users_matrix[user_id][movie_id] * user_sim\n",
    "        numerator += user_sim\n",
    "    recommended_rating = denominator / numerator\n",
    "    insert_sorted(recommended_movies, (movie_id, round(recommended_rating, 1), 0))"
   ]
  },
  {
   "cell_type": "code",
   "execution_count": 179,
   "metadata": {},
   "outputs": [],
   "source": [
    "for i in range(min(5, len(recommended_movies))):\n",
    "    movie_id, rating, _ = recommended_movies[i]\n",
    "    print('{} - {} {}'.format(i + 1, matrix[movie_id]['name'], rating))"
   ]
  },
  {
   "cell_type": "code",
   "execution_count": null,
   "metadata": {},
   "outputs": [],
   "source": []
  },
  {
   "cell_type": "code",
   "execution_count": null,
   "metadata": {},
   "outputs": [],
   "source": []
  }
 ],
 "metadata": {
  "kernelspec": {
   "display_name": "Python 3",
   "language": "python",
   "name": "python3"
  },
  "language_info": {
   "codemirror_mode": {
    "name": "ipython",
    "version": 3
   },
   "file_extension": ".py",
   "mimetype": "text/x-python",
   "name": "python",
   "nbconvert_exporter": "python",
   "pygments_lexer": "ipython3",
   "version": "3.7.4"
  }
 },
 "nbformat": 4,
 "nbformat_minor": 2
}
